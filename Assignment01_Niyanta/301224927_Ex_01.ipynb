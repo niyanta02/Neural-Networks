{
 "cells": [
  {
   "cell_type": "markdown",
   "id": "1b4a12ff",
   "metadata": {},
   "source": [
    "# Assignment 1 Exercise 1"
   ]
  },
  {
   "cell_type": "code",
   "execution_count": 31,
   "id": "9e7c3fb4",
   "metadata": {},
   "outputs": [],
   "source": [
    "#importing libraries\n",
    "import numpy as np\n",
    "import pandas as pd\n",
    "import matplotlib.pyplot as plt"
   ]
  },
  {
   "cell_type": "code",
   "execution_count": 2,
   "id": "9cf28a57",
   "metadata": {},
   "outputs": [],
   "source": [
    "#input vectors\n",
    "input_A_1 = np.array([0,0,2,2,0,0,0,0,0,0,2,0,0,0,0,0,0,2,0,0,0,0,0,2,0,2,0,0,0,0,2,0,2,0,0,0,2,2,2,2,2,0,0,2,0,0,0,2,0,0,2,0,0,0,2,0,2,2,2,0,2,2,2])\n",
    "input_A_2 = np.array([0,0,0,2,0,0,0,0,0,0,2,0,0,0,0,0,0,2,0,0,0,0,0,2,0,2,0,0,0,0,2,0,2,0,0,0,2,0,0,0,2,0,0,2,2,2,2,2,0,0,2,0,0,0,2,0,0,2,0,0,0,2,0])\n",
    "input_A_3 = np.array([0,0,0,2,0,0,0,0,0,0,2,0,0,0,0,0,2,0,2,0,0,0,0,2,0,2,0,0,0,2,0,0,0,2,0,0,2,0,0,0,2,0,0,2,2,2,2,2,0,2,0,0,0,0,0,2,2,2,0,0,0,2,2])\n",
    "input_B_1 = np.array([2,2,2,2,2,2,0,0,2,0,0,0,0,2,0,2,0,0,0,0,2,0,2,0,0,0,0,2,2,2,2,2,2,2,0,0,2,0,0,0,0,2,2,2,0,0,0,0,2,0,2,0,0,0,0,2,2,2,2,2,2,2,0])\n",
    "input_B_2 = np.array([2,2,2,2,2,2,0,2,0,0,0,0,0,2,2,0,0,0,0,0,2,2,0,0,0,0,0,2,2,2,2,2,2,2,0,2,0,0,0,0,0,2,2,0,0,0,0,0,2,2,0,0,0,0,0,2,2,2,2,2,2,2,0])\n",
    "input_B_3 = np.array([2,2,2,2,2,2,0,0,2,0,0,0,0,2,0,2,0,0,0,0,2,0,2,2,2,2,2,0,0,2,0,0,0,0,2,0,2,0,0,0,0,2,0,2,0,0,0,0,2,0,2,0,0,0,0,2,2,2,2,2,2,2,0])\n",
    "input_C_1 = np.array([0,0,2,2,2,2,2,0,2,0,0,0,0,2,2,0,0,0,0,0,0,2,0,0,0,0,0,0,2,0,0,0,0,0,0,2,0,0,0,0,0,0,2,0,0,0,0,0,0,0,2,0,0,0,0,2,0,0,2,2,2,2,0])\n",
    "input_C_2 = np.array([0,0,2,2,2,0,0,0,2,0,0,0,2,0,2,0,0,0,0,0,2,2,0,0,0,0,0,0,2,0,0,0,0,0,0,2,0,0,0,0,0,0,2,0,0,0,0,0,2,0,2,0,0,0,2,0,0,0,2,2,2,0,0])\n",
    "input_C_3 = np.array([0,0,2,2,2,0,2,0,2,0,0,0,2,2,2,0,0,0,0,0,2,2,0,0,0,0,0,0,2,0,0,0,0,0,0,2,0,0,0,0,0,0,2,0,0,0,0,0,2,0,2,0,0,0,2,0,0,0,2,2,2,0,0])\n",
    "input_D_1 = np.array([2,2,2,2,2,0,0,0,2,0,0,0,2,0,0,2,0,0,0,0,2,0,2,0,0,0,0,2,0,2,0,0,0,0,2,0,2,0,0,0,0,2,0,2,0,0,0,0,2,0,2,0,0,0,2,0,2,2,2,2,2,0,0])\n",
    "input_D_2 = np.array([2,2,2,2,2,0,0,2,0,0,0,0,2,0,2,0,0,0,0,0,2,2,0,0,0,0,0,2,2,0,0,0,0,0,2,2,0,0,0,0,0,2,2,0,0,0,0,0,2,2,0,0,0,0,2,0,2,2,2,2,2,0,0])\n",
    "input_D_3 = np.array([2,2,2,2,2,0,0,0,2,0,0,0,2,0,0,2,0,0,0,0,2,0,2,0,0,0,0,2,0,2,0,0,0,0,2,0,2,0,0,0,0,2,0,2,0,0,0,0,2,0,2,0,0,0,2,0,2,2,2,2,2,0,0])\n",
    "input_E_1 = np.array([2,2,2,2,2,2,2,0,2,0,0,0,0,2,0,2,0,0,0,0,0,0,2,0,2,0,0,0,0,2,2,2,0,0,0,0,2,0,2,0,0,0,0,2,0,0,0,0,0,0,2,0,0,0,0,0,2,2,2,2,2,2,2])\n",
    "input_E_2 = np.array([2,2,2,2,2,2,2,2,0,0,0,0,0,0,2,0,0,0,0,0,0,2,0,0,0,0,0,0,2,2,2,2,2,0,0,2,0,0,0,0,0,0,2,0,0,0,0,0,0,2,0,0,0,0,0,0,2,2,2,2,2,2,2])\n",
    "input_E_3 = np.array([2,2,2,2,2,2,2,0,2,0,0,0,0,2,0,2,0,0,2,0,0,0,2,2,2,2,0,0,0,2,0,0,2,0,0,0,2,0,0,0,0,0,0,2,0,0,0,0,0,0,2,0,0,0,0,2,2,2,2,2,2,2,2])\n",
    "input_J_1 = np.array([0,0,0,2,2,2,2,0,0,0,0,0,2,0,0,0,0,0,0,2,0,0,0,0,0,0,2,0,0,0,0,0,0,2,0,0,0,0,0,0,2,0,0,2,0,0,0,2,0,0,2,0,0,0,2,0,0,0,2,2,2,0,0])\n",
    "input_J_2 = np.array([0,0,0,0,0,2,0,0,0,0,0,0,2,0,0,0,0,0,0,2,0,0,0,0,0,0,2,0,0,0,0,0,0,2,0,0,0,0,0,0,2,0,0,2,0,0,0,2,0,0,2,0,0,0,2,0,0,0,2,2,2,0,0])\n",
    "input_J_3 = np.array([0,0,0,0,2,2,2,0,0,0,0,0,2,0,0,0,0,0,0,2,0,0,0,0,0,0,2,0,0,0,0,0,0,2,0,0,0,0,0,0,2,0,0,0,0,0,0,2,0,0,2,0,0,0,2,0,0,0,2,2,2,0,0])\n",
    "input_K_1 = np.array([2,2,2,0,0,2,2,0,2,0,0,2,0,0,0,2,0,2,0,0,0,0,2,2,0,0,0,0,0,2,2,0,0,0,0,0,2,0,2,0,0,0,0,2,0,0,2,0,0,0,2,0,0,0,2,0,2,2,2,0,0,2,2])\n",
    "input_K_2 = np.array([2,0,0,0,0,2,0,2,0,0,0,2,0,0,2,0,0,2,0,0,0,2,0,2,0,0,0,0,2,2,0,0,0,0,0,2,0,2,0,0,0,0,2,0,0,2,0,0,0,2,0,0,0,2,0,0,2,0,0,0,0,2,0])\n",
    "input_K_3 = np.array([2,2,2,0,0,2,2,0,2,0,0,0,2,0,0,2,0,0,2,0,0,0,2,0,2,0,0,0,0,2,2,0,0,0,0,0,2,0,2,0,0,0,0,2,0,0,2,0,0,0,2,0,0,0,2,0,2,2,2,0,0,2,2])\n"
   ]
  },
  {
   "cell_type": "code",
   "execution_count": 5,
   "id": "4b6da517",
   "metadata": {},
   "outputs": [],
   "source": [
    "#input data\n",
    "input_data_1 = [input_A_1,input_A_2,input_A_3,input_B_1,input_B_2,input_B_3,input_C_1,input_C_2,input_C_3,input_D_1,input_D_2,input_D_3,input_E_1,input_E_2,input_E_3,input_J_1,input_J_2,input_J_3,input_K_1,input_K_2,input_K_3]"
   ]
  },
  {
   "cell_type": "code",
   "execution_count": 6,
   "id": "b43d3163",
   "metadata": {},
   "outputs": [
    {
     "name": "stdout",
     "output_type": "stream",
     "text": [
      "[-1 -1  1  1 -1 -1 -1 -1 -1 -1  1 -1 -1 -1 -1 -1 -1  1 -1 -1 -1 -1 -1  1\n",
      " -1  1 -1 -1 -1 -1  1 -1  1 -1 -1 -1  1  1  1  1  1 -1 -1  1 -1 -1 -1  1\n",
      " -1 -1  1 -1 -1 -1  1 -1  1  1  1 -1  1  1  1]\n"
     ]
    }
   ],
   "source": [
    "#converting letters into bioploar form\n",
    "for i in input_data_1:\n",
    "    for j in range(len(i)):\n",
    "        i[j] = i[j]-1\n",
    "print(input_data_1[0])"
   ]
  },
  {
   "cell_type": "code",
   "execution_count": 7,
   "id": "55335809",
   "metadata": {},
   "outputs": [],
   "source": [
    "#labels\n",
    "\n",
    "labels = np.array([0,0,0,0,0,0,0,0,0,1,1,1,0,0,0,0,0,0,0,0,0])"
   ]
  },
  {
   "cell_type": "code",
   "execution_count": 8,
   "id": "ae3fe5ab",
   "metadata": {},
   "outputs": [],
   "source": [
    "#classifying the input using perceptron\n",
    "class Perceptron(object):\n",
    "\n",
    "    def __init__(self, no_of_inputs, epochs=100, learning_rate=0.01):\n",
    "        self.epochs = epochs\n",
    "        self.learning_rate = learning_rate\n",
    "        self.weights = np.zeros(no_of_inputs + 1)\n",
    "           \n",
    "    def predict(self, inputs):\n",
    "        summation = np.dot(inputs, self.weights[1:]) + self.weights[0]\n",
    "        if summation > 0:\n",
    "          activation = 1\n",
    "        else:\n",
    "          activation = 0            \n",
    "        return activation\n",
    "\n",
    "    def train(self, training_inputs, labels):\n",
    "        for _ in range(self.epochs):\n",
    "            for inputs, label in zip(training_inputs, labels):\n",
    "                prediction = self.predict(inputs)\n",
    "                self.weights[1:] += self.learning_rate * (label - prediction) * inputs\n",
    "                self.weights[0] += self.learning_rate * (label - prediction)"
   ]
  },
  {
   "cell_type": "code",
   "execution_count": 9,
   "id": "683c0cf3",
   "metadata": {},
   "outputs": [],
   "source": [
    "#Perceptron Training \n",
    "perceptron = Perceptron(63)\n",
    "perceptron.train(input_data_1, labels)"
   ]
  },
  {
   "cell_type": "code",
   "execution_count": 10,
   "id": "fcff30ec",
   "metadata": {},
   "outputs": [
    {
     "name": "stdout",
     "output_type": "stream",
     "text": [
      "Given input character input is not B\n"
     ]
    }
   ],
   "source": [
    "#checking the perceptron using custom input\n",
    "input = np.array([0,0,2,2,0,0,0,0,0,0,2,0,0,0,0,0,0,2,0,0,0,0,0,2,0,2,0,0,0,0,2,0,2,0,0,0,2,2,2,2,2,0,0,2,0,0,0,2,0,0,2,0,0,0,2,0,2,2,2,0,2,2,2])\n",
    "for i in range(len(input)):\n",
    "    input[i] = input[i]-1\n",
    "if perceptron.predict(input) == 1:\n",
    "    print(\"Given input charqacter input is  B\")\n",
    "else:\n",
    "    print(\"Given input character input is not B\")"
   ]
  },
  {
   "cell_type": "code",
   "execution_count": 11,
   "id": "be0e42d4",
   "metadata": {},
   "outputs": [],
   "source": [
    "#classifying the input using ADALINE \n",
    "class AdalineGD(object):\n",
    "\n",
    "    def __init__(self, eta=0.01, epochs=50):\n",
    "        self.eta = eta\n",
    "        self.epochs = epochs\n",
    "\n",
    "    def train(self, X, y):\n",
    "\n",
    "        self.w_ = np.zeros(1 + X.shape[1])\n",
    "        self.cost_ = []\n",
    "\n",
    "        for i in range(self.epochs):\n",
    "            output = self.net_input(X)\n",
    "            errors = (y - output)\n",
    "            self.w_[1:] += self.eta * X.T.dot(errors)\n",
    "            self.w_[0] += self.eta * errors.sum()\n",
    "            cost = (errors**2).sum() / 2.0\n",
    "            self.cost_.append(cost)\n",
    "        return self\n",
    "\n",
    "    def net_input(self, X):\n",
    "        return np.dot(X, self.w_[1:]) + self.w_[0]\n",
    "\n",
    "    def activation(self, X):\n",
    "        return self.net_input(X)\n",
    "\n",
    "    def predict(self, X):\n",
    "        return np.where(self.activation(X) >= 0.0, 1, -1)"
   ]
  },
  {
   "cell_type": "markdown",
   "id": "938e4ad6",
   "metadata": {},
   "source": [
    "# Adding Noise into input data"
   ]
  },
  {
   "cell_type": "code",
   "execution_count": 20,
   "id": "db190fc1",
   "metadata": {},
   "outputs": [],
   "source": [
    "# 5 pixel Noisy\n",
    "random= np.random.randint(1,63,5)\n",
    "for i in input_data_1:\n",
    "    for j in random:\n",
    "        if i[j]==1:\n",
    "            i[j]=0\n",
    "        else:\n",
    "            i[j]=1"
   ]
  },
  {
   "cell_type": "code",
   "execution_count": 21,
   "id": "9aab8a2c",
   "metadata": {},
   "outputs": [
    {
     "name": "stdout",
     "output_type": "stream",
     "text": [
      "actual : 0 || adaline : -1 || perceptron : 0\n",
      "actual : 0 || adaline : -1 || perceptron : 0\n",
      "actual : 0 || adaline : -1 || perceptron : 0\n",
      "actual : 0 || adaline : -1 || perceptron : 0\n",
      "actual : 0 || adaline : -1 || perceptron : 0\n",
      "actual : 0 || adaline : -1 || perceptron : 0\n",
      "actual : 0 || adaline : -1 || perceptron : 0\n",
      "actual : 0 || adaline : -1 || perceptron : 0\n",
      "actual : 0 || adaline : -1 || perceptron : 0\n",
      "actual : 1 || adaline : -1 || perceptron : 0\n",
      "actual : 1 || adaline : -1 || perceptron : 0\n",
      "actual : 1 || adaline : -1 || perceptron : 0\n",
      "actual : 0 || adaline : -1 || perceptron : 0\n",
      "actual : 0 || adaline : -1 || perceptron : 0\n",
      "actual : 0 || adaline : -1 || perceptron : 0\n",
      "actual : 0 || adaline : -1 || perceptron : 0\n",
      "actual : 0 || adaline : -1 || perceptron : 0\n",
      "actual : 0 || adaline : -1 || perceptron : 0\n",
      "actual : 0 || adaline : -1 || perceptron : 0\n",
      "actual : 0 || adaline : -1 || perceptron : 0\n",
      "actual : 0 || adaline : -1 || perceptron : 0\n"
     ]
    }
   ],
   "source": [
    "import pandas as pd\n",
    "input = pd.DataFrame(input_data_1)\n",
    "ada = AdalineGD(epochs=200, eta=0.01).train(input, labels)\n",
    "perc = Perceptron(63, epochs=200)\n",
    "ada_preds = ada.predict(input)\n",
    "perc_preds = []\n",
    "for i in input_data_1:\n",
    "    perc_preds.append(perc.predict(i))\n",
    "\n",
    "for i, label in enumerate(labels):\n",
    "    print(\"actual : {} || adaline : {} || perceptron : {}\".format(label, ada_preds[i], perc_preds[i]))"
   ]
  },
  {
   "cell_type": "code",
   "execution_count": null,
   "id": "66cf465a",
   "metadata": {},
   "outputs": [],
   "source": [
    "#Plotting results"
   ]
  },
  {
   "cell_type": "code",
   "execution_count": 39,
   "id": "dc5d7395",
   "metadata": {},
   "outputs": [
    {
     "data": {
      "image/png": "[encoded data removed]",
      "text/plain": [
       "<Figure size 432x288 with 1 Axes>"
      ]
     },
     "metadata": {
      "needs_background": "light"
     },
     "output_type": "display_data"
    }
   ],
   "source": [
    "from mlxtend.plotting import plot_decision_regions\n",
    "\n",
    "plt.plot(range(1, len( ada.cost_)+1), ada.cost_, marker='o')\n",
    "plt.xlabel('Iterations')\n",
    "plt.ylabel('Sum-squared-error')\n",
    "plt.show()"
   ]
  },
  {
   "cell_type": "code",
   "execution_count": 36,
   "id": "e5f5c348",
   "metadata": {},
   "outputs": [],
   "source": [
    "# 10 pixel Noisy"
   ]
  },
  {
   "cell_type": "code",
   "execution_count": 35,
   "id": "ce4a4a67",
   "metadata": {},
   "outputs": [],
   "source": [
    "#10 pixel Noisy\n",
    "random= np.random.randint(1,63,10)\n",
    "for i in input_data_1:\n",
    "    for j in random:\n",
    "        if i[j]==1:\n",
    "            i[j]=0\n",
    "        else:\n",
    "            i[j]=1"
   ]
  },
  {
   "cell_type": "code",
   "execution_count": 37,
   "id": "36558ef0",
   "metadata": {},
   "outputs": [],
   "source": [
    "input = pd.DataFrame(input_data_1)\n",
    "ada = AdalineGD(epochs=10, eta=0.01).train(input, labels)"
   ]
  },
  {
   "cell_type": "code",
   "execution_count": 38,
   "id": "2fce113f",
   "metadata": {},
   "outputs": [
    {
     "data": {
      "image/png": "[encoded data removed]",
      "text/plain": [
       "<Figure size 432x288 with 1 Axes>"
      ]
     },
     "metadata": {
      "needs_background": "light"
     },
     "output_type": "display_data"
    }
   ],
   "source": [
    "plt.plot(range(1, len( ada.cost_)+1), ada.cost_, marker='o')\n",
    "plt.xlabel('Iterations')\n",
    "plt.ylabel('Sum-squared-error')\n",
    "plt.show()"
   ]
  },
  {
   "cell_type": "code",
   "execution_count": 40,
   "id": "c45f56fb",
   "metadata": {},
   "outputs": [],
   "source": [
    "#15 pixel Noisy\n",
    "random= np.random.randint(1,63,15)\n",
    "for i in input_data_vector_1:\n",
    "    for j in random:\n",
    "        if i[j]==1:\n",
    "            i[j]=0\n",
    "        else:\n",
    "            i[j]=1"
   ]
  },
  {
   "cell_type": "code",
   "execution_count": 41,
   "id": "e811de3f",
   "metadata": {},
   "outputs": [],
   "source": [
    "input = pd.DataFrame(input_data_1)\n",
    "ada = AdalineGD(epochs=10, eta=0.01).train(input, labels)"
   ]
  },
  {
   "cell_type": "code",
   "execution_count": 42,
   "id": "8d88f7c2",
   "metadata": {},
   "outputs": [
    {
     "data": {
      "image/png": "[encoded data removed]",
      "text/plain": [
       "<Figure size 432x288 with 1 Axes>"
      ]
     },
     "metadata": {
      "needs_background": "light"
     },
     "output_type": "display_data"
    }
   ],
   "source": [
    "plt.plot(range(1, len( ada.cost_)+1), ada.cost_, marker='o')\n",
    "plt.xlabel('Iterations')\n",
    "plt.ylabel('Sum-squared-error')\n",
    "plt.show()"
   ]
  },
  {
   "cell_type": "code",
   "execution_count": 43,
   "id": "e350dccc",
   "metadata": {},
   "outputs": [],
   "source": [
    "#20 pixel Noisy\n",
    "\n",
    "random= np.random.randint(1,63,20)\n",
    "for i in input_data_1:\n",
    "    for j in random:\n",
    "        if i[j]==1:\n",
    "            i[j]=0\n",
    "        else:\n",
    "            i[j]=1"
   ]
  },
  {
   "cell_type": "code",
   "execution_count": 44,
   "id": "9f43923b",
   "metadata": {},
   "outputs": [],
   "source": [
    "input = pd.DataFrame(input_data_1)\n",
    "ada = AdalineGD(epochs=10, eta=0.01).train(input, labels)"
   ]
  },
  {
   "cell_type": "code",
   "execution_count": 48,
   "id": "9ff30a72",
   "metadata": {},
   "outputs": [
    {
     "data": {
      "image/png": "[encoded data removed]",
      "text/plain": [
       "<Figure size 432x288 with 1 Axes>"
      ]
     },
     "metadata": {
      "needs_background": "light"
     },
     "output_type": "display_data"
    }
   ],
   "source": [
    "plt.plot(range(1, len(ada.cost_)+1), np.log10(ada.cost_), marker='o')\n",
    "plt.xlabel('Iterations')\n",
    "plt.ylabel('log(Sum squared error)')\n",
    "plt.show()"
   ]
  },
  {
   "cell_type": "code",
   "execution_count": null,
   "id": "fdb5d1e1",
   "metadata": {},
   "outputs": [],
   "source": []
  },
  {
   "cell_type": "code",
   "execution_count": null,
   "id": "ee858bb3",
   "metadata": {},
   "outputs": [],
   "source": []
  }
 ],
 "metadata": {
  "kernelspec": {
   "display_name": "Python 3 (ipykernel)",
   "language": "python",
   "name": "python3"
  },
  "language_info": {
   "codemirror_mode": {
    "name": "ipython",
    "version": 3
   },
   "file_extension": ".py",
   "mimetype": "text/x-python",
   "name": "python",
   "nbconvert_exporter": "python",
   "pygments_lexer": "ipython3",
   "version": "3.9.12"
  }
 },
 "nbformat": 4,
 "nbformat_minor": 5
}
